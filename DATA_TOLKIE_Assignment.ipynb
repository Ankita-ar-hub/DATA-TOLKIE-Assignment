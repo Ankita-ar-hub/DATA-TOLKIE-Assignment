{
  "nbformat": 4,
  "nbformat_minor": 0,
  "metadata": {
    "colab": {
      "provenance": []
    },
    "kernelspec": {
      "name": "python3",
      "display_name": "Python 3"
    },
    "language_info": {
      "name": "python"
    }
  },
  "cells": [
    {
      "cell_type": "markdown",
      "source": [
        "# THEORY SOLUTIONS"
      ],
      "metadata": {
        "id": "pPhvQfMsIOq6"
      }
    },
    {
      "cell_type": "markdown",
      "source": [
        "1.  What is NumPy, and why is it widely used in Python?\n",
        "\n",
        "\n",
        "NumPy (Numerical Python) is a fundamental library for numerical computing in Python. It provides powerful data structures, primarily the ndarray (n-dimensional array), and a vast collection of high-level mathematical functions to operate on these arrays. It's widely used because it offers significant performance advantages over standard Python lists, particularly for numerical operations on large datasets. This is due to its arrays being stored in a contiguous block of memory, which allows for highly efficient, vectorized operations that are executed in low-level, compiled code (often C or Fortran)."
      ],
      "metadata": {
        "id": "RKMOHtNPIUch"
      }
    },
    {
      "cell_type": "markdown",
      "source": [
        "2.  How does broadcasting work in NumPy?\n",
        "\n",
        "\n",
        "Broadcasting is a powerful mechanism in NumPy that allows for arithmetic operations between arrays of different shapes. It automatically “stretches” the smaller array to match the shape of the larger array without making copies, which is a significant performance gain. The broadcasting rules are:\n",
        "\n",
        "If the arrays have a different number of dimensions, the shape of the smaller array is padded with ones on its left side.\n",
        "\n",
        "If the shapes of the two arrays are not equal in any dimension, the array with shape equal to 1 in that dimension is stretched to match the other shape.\n",
        "\n",
        "If in any dimension the sizes are unequal and neither is equal to 1, a ValueError is raised."
      ],
      "metadata": {
        "id": "GfSKCE51Iu5T"
      }
    },
    {
      "cell_type": "markdown",
      "source": [
        "3.  What is a Pandas DataFrame?\n",
        "\n",
        "A Pandas DataFrame is a two-dimensional, size-mutable, and potentially heterogeneous tabular data structure with labeled axes (rows and columns). It is similar to a spreadsheet or a SQL table. DataFrames are a core component of the Pandas library, which is built on top of NumPy and is essential for data manipulation and analysis in Python."
      ],
      "metadata": {
        "id": "_2KaD3L6I7mp"
      }
    },
    {
      "cell_type": "markdown",
      "source": [
        "4. Explain the use of the groupby() method in Pandas.\n",
        "\n",
        "The groupby() method in Pandas is used to split a DataFrame into groups based on some criterion. It follows a three-step process: split-apply-combine.\n",
        "\n",
        "Split: The DataFrame is split into smaller groups based on unique values in a specified column or columns.\n",
        "\n",
        "Apply: A function (e.g., sum(), mean(), count()) is applied to each of these groups.\n",
        "\n",
        "Combine: The results of the apply step are combined into a new DataFrame or Series.\n",
        "\n",
        "This method is essential for performing aggregate statistical analysis on subsets of data."
      ],
      "metadata": {
        "id": "5B_QugiaJBnh"
      }
    },
    {
      "cell_type": "markdown",
      "source": [
        "5. Why is Seaborn preferred for statistical visualizations?\n",
        "\n",
        "\n",
        "Seaborn is a high-level data visualization library based on Matplotlib. It's preferred for statistical visualizations because:\n",
        "\n",
        "Aesthetics: It provides aesthetically pleasing, more professional-looking default styles and color palettes.\n",
        "\n",
        "Built-in Functions: It includes specialized plots designed for statistical data analysis, such as regplots, pairplots, and heatmaps, which would be complex to create using Matplotlib alone.\n",
        "\n",
        "Integration with Pandas: It works seamlessly with Pandas DataFrames, making it easy to create complex plots with a few lines of code."
      ],
      "metadata": {
        "id": "PVNo1ea9JO5b"
      }
    },
    {
      "cell_type": "markdown",
      "source": [
        "6.  What are the differences between NumPy arrays and Python lists?\n",
        "\n",
        "\n",
        "The key differences between NumPy arrays and Python lists are:\n",
        "\n",
        "Data Type: NumPy arrays are homogeneous, meaning all elements must be of the same data type. Python lists are heterogeneous and can store elements of different data types.\n",
        "\n",
        "Performance: NumPy arrays are significantly faster for numerical operations, especially on large datasets, because of their fixed data types and contiguous memory layout.\n",
        "\n",
        "Functionality: NumPy provides a wide range of built-in mathematical functions that can be applied to the entire array at once. Python lists require loops for similar operations, which is much slower."
      ],
      "metadata": {
        "id": "PYVymhvcJaS6"
      }
    },
    {
      "cell_type": "markdown",
      "source": [
        "7.  What is a heatmap, and when should it be used?\n",
        "\n",
        "\n",
        "A heatmap is a graphical representation of data where the individual values in a matrix are represented as colors. It's used to visualize the magnitude of a phenomenon, often the correlation between variables, in a two-dimensional plot. Heatmaps are particularly useful for:\n",
        "\n",
        "Displaying a correlation matrix to show the relationships between multiple variables.\n",
        "\n",
        "Visualizing missing data to quickly identify patterns of null values.\n",
        "\n",
        "Analyzing genomic data or website traffic to see patterns over time."
      ],
      "metadata": {
        "id": "rxLgWtBkJla4"
      }
    },
    {
      "cell_type": "markdown",
      "source": [
        "8. What does the term “vectorized operation” mean in NumPy?\n",
        "\n",
        "\n",
        "\n",
        "A vectorized operation in NumPy refers to applying a mathematical function or operation to an entire array at once, rather than element by element using a Python for loop. These operations are implemented in underlying C or Fortran code, making them significantly faster and more memory-efficient than their Python loop-based counterparts. For example, arr1 + arr2 is a vectorized operation that adds all corresponding elements of two NumPy arrays without an explicit loop."
      ],
      "metadata": {
        "id": "daWDB1w5JsxQ"
      }
    },
    {
      "cell_type": "markdown",
      "source": [
        "9.  How does Matplotlib differ from Plotly?\n",
        "\n",
        "\n",
        "Matplotlib is a foundational, low-level plotting library that gives you fine-grained control over every element of a plot. It's great for static plots and publication-quality figures. Plotly, on the other hand, is a high-level, interactive visualization library that excels at creating web-based, interactive charts that can be zoomed, panned, and hovered over. Plotly's main benefits are its interactivity and the ease of creating complex visualizations without extensive coding.\n",
        "\n"
      ],
      "metadata": {
        "id": "n5OQ0bUuJ252"
      }
    },
    {
      "cell_type": "markdown",
      "source": [
        "10.  What is the significance of hierarchical indexing in Pandas?\n",
        "\n",
        "This multi-level indexing is significant because it provides a powerful way to organize, manipulate, and analyze complex datasets that have nested or categorical information.\n",
        "\n",
        "Here’s why it's so useful:\n",
        "\n",
        "Simplifies Data Representation: Instead of using separate DataFrames or complex column names to represent nested data, you can use a single DataFrame with a MultiIndex. This makes your data structure more intuitive and easier to work with. For example, you could have a MultiIndex for rows that groups data first by Country, then by City, making it easy to analyze data for specific cities within specific countries.\n",
        "\n",
        "Enables Complex Selections and Subsetting: MultiIndex allows you to select entire groups or subgroups of data with simple, clean syntax. You can easily access a specific country's data or a specific city's data from a single DataFrame without needing multiple boolean masks.\n",
        "\n",
        "Powerful Data Aggregation: It makes it simple to perform aggregate operations (like groupby()) at different levels of the index. This is crucial for summarizing data at various granularities, such as calculating the average sales for each city and then for each country."
      ],
      "metadata": {
        "id": "q3vVe8xBKDhx"
      }
    },
    {
      "cell_type": "markdown",
      "source": [
        "11.  What is the role of Seaborn’s pairplot() function?\n",
        "\n",
        "\n",
        "\n",
        "The pairplot() function in Seaborn creates a grid of plots, showing the relationships between pairs of variables in a dataset. It's a great tool for a quick exploratory data analysis (EDA). The diagonal subplots show the distribution of each variable (often with a histogram or KDE plot), while the off-diagonal subplots show scatter plots of the paired variables. This provides a comprehensive overview of the data's structure and potential correlations.\n",
        "\n"
      ],
      "metadata": {
        "id": "vNOgIbWmKYZW"
      }
    },
    {
      "cell_type": "markdown",
      "source": [
        "12.  What is the purpose of the describe() function in Pandas?\n",
        "\n",
        "\n",
        "The describe() function in Pandas is a convenient method for generating descriptive statistics for a DataFrame. It provides a summary of the central tendency, dispersion, and shape of a dataset's distribution. For numerical data, it returns statistics like count, mean, std (standard deviation), min, max, and the quartiles (25%, 50%, 75%). For categorical data, it returns counts of unique values, the most frequent value, and its frequency."
      ],
      "metadata": {
        "id": "O7Q_a1s8KfgS"
      }
    },
    {
      "cell_type": "markdown",
      "source": [
        "13.  Why is handling missing data important in Pandas?\n",
        "\n",
        "\n",
        "Handling missing data is crucial in Pandas because most statistical and machine learning models cannot work with missing values (NaN). Failing to handle them can lead to incorrect or misleading results, model errors, and skewed analyses. Common techniques include dropping rows/columns with missing values or imputing them using a statistical measure like the mean, median, or mode.\n",
        "\n"
      ],
      "metadata": {
        "id": "z35lMnBZKlef"
      }
    },
    {
      "cell_type": "markdown",
      "source": [
        "14.  What are the benefits of using Plotly for data visualization?\n",
        "\n",
        "\n",
        "\n",
        "The primary benefits of using Plotly for data visualization are:\n",
        "\n",
        "Interactivity: Plotly creates interactive plots by default, allowing users to zoom, pan, and hover over data points to see details.\n",
        "\n",
        "Web-Based: Plots are rendered in a web browser and can be easily embedded in websites, dashboards, and applications.\n",
        "\n",
        "Rich Plot Types: Plotly offers a wide variety of chart types, including 3D plots, geographic maps, and financial charts."
      ],
      "metadata": {
        "id": "CI9SgEAfKsgY"
      }
    },
    {
      "cell_type": "markdown",
      "source": [
        "15.  How does NumPy handle multidimensional arrays?\n",
        "\n",
        "\n",
        "NumPy handles multidimensional arrays using its core ndarray object. An ndarray is a grid of values of the same type, indexed by a tuple of non-negative integers. The number of dimensions is called the rank or ndim. The dimensions are often referred to as axes. For example, a 2D array is a matrix, a 3D array is a cube, and so on. NumPy's internal structure and vectorized operations are highly optimized for these multidimensional data structures."
      ],
      "metadata": {
        "id": "Za7aHRD6K0hY"
      }
    },
    {
      "cell_type": "markdown",
      "source": [
        "16. What is the role of Bokeh in data visualization?\n",
        "\n",
        "\n",
        "Bokeh is a Python library for creating interactive, web-based data visualizations. Its role is to provide a declarative way to create plots and dashboards that are shareable and scalable, without requiring the user to write any JavaScript. It is a good choice for building interactive data applications and dashboards."
      ],
      "metadata": {
        "id": "nC2Hn3GdK6cz"
      }
    },
    {
      "cell_type": "markdown",
      "source": [
        "17.  Explain the difference between apply() and map() in Pandas.\n",
        "\n",
        "\n",
        "The difference between apply() and map() in Pandas is related to their scope and usage:\n",
        "\n",
        "map(): This method is used on a Pandas Series to substitute each value in the Series with another value. It's ideal for element-wise transformations or cleaning data based on a dictionary or function.\n",
        "\n",
        "apply(): This is a more general-purpose method that can be used on a DataFrame or Series. It applies a function along an axis of the DataFrame (row-wise or column-wise) and is much more flexible than map(). It is used for more complex operations, such as row-wise calculations."
      ],
      "metadata": {
        "id": "PhmmNtDDLAf6"
      }
    },
    {
      "cell_type": "markdown",
      "source": [
        "18.  What are some advanced features of NumPy?\n",
        "\n",
        "\n",
        "NumPy's power extends beyond its basic array creation and mathematical operations to include several advanced features that are crucial for high-performance computing and complex data manipulation.\n",
        "\n",
        "Advanced Indexing and Slicing\n",
        "<br>\n",
        "<br>\n",
        "Beyond simple integer and slice-based indexing, NumPy offers powerful ways to select and manipulate data:\n",
        "\n",
        "Boolean Indexing: You can use a boolean array to select elements from another array. This is extremely useful for filtering data based on a condition. For example, arr[arr > 5] will return all elements from arr that are greater than 5.\n",
        "\n",
        "\n",
        "\n",
        "Fancy Indexing: This involves passing an array of integer indices to select multiple non-contiguous elements. For example, arr[[0, 2, 4]] selects the first, third, and fifth elements of the array. This is much more efficient than using a for loop to achieve the same result.\n",
        "\n",
        "\n",
        "Memory Management and Efficiency\n",
        "<br>\n",
        "<br>\n",
        "NumPy provides features that help you manage memory and optimize performance for large datasets:\n",
        "\n",
        "Views vs. Copies: Slicing an array in NumPy often creates a view, which is a new array object that looks at the same data as the original. This is a highly efficient operation because it avoids copying large amounts of data. You can check if an array is a view using arr.base is not None.\n",
        "\n",
        "Memory Layout (ndarray.flags): NumPy allows you to control the memory layout of arrays. For example, you can choose between C-contiguous (row-major) or Fortran-contiguous (column-major) memory layouts, which can be critical for interoperability with other programming languages and for optimizing performance in certain operations.\n",
        "\n",
        "Universal Functions (ufuncs)\n",
        "<br>\n",
        "<br>\n",
        "Universal Functions are a core feature of NumPy that operate element-wise on ndarrays. They are implemented in compiled C code, making them incredibly fast.\n",
        "\n",
        "Broadcasting: This is a powerful mechanism that allows ufuncs to work with arrays of different shapes without explicit looping. It automatically \"stretches\" the smaller array to match the dimensions of the larger one, enabling operations like adding a scalar to an entire array (arr + 5).\n",
        "\n",
        "\n",
        "Linear Algebra\n",
        "<br>\n",
        "<br>\n",
        "NumPy's numpy.linalg module is a robust and fast library for linear algebra operations, thanks to its use of highly optimized libraries like BLAS and LAPACK.\n",
        "\n",
        "Matrix Operations: It includes functions for matrix multiplication (np.dot or the @ operator), decomposition, finding determinants, eigenvalues, and eigenvectors, which are fundamental to many scientific and machine learning applications.\n",
        "\n",
        "Advanced Array Creation\n",
        "<br>\n",
        "<br>\n",
        "NumPy offers a variety of advanced ways to create arrays:\n",
        "\n",
        "Structured Arrays: These arrays allow you to create heterogeneous data types, where each element is a record with different fields, similar to a struct in C. This is useful for working with tabular data that contains a mix of numbers, strings, and other data types.\n",
        "\n",
        "Memory-mapped Files (np.memmap): This feature allows you to treat a file on disk as if it were a large NumPy array in memory. This is essential for working with datasets that are too large to fit into RAM, as it allows you to access and modify data without loading the entire file.\n",
        "\n",
        "\n",
        "Sources\n"
      ],
      "metadata": {
        "id": "dtQvYAdeLG4Y"
      }
    },
    {
      "cell_type": "markdown",
      "source": [
        "19. How does Pandas simplify time series analysis?\n",
        "\n",
        "\n",
        "Key Features that Simplify Time Series Analysis\n",
        "1. Native Handling of Dates and Times\n",
        "Pandas introduces the DatetimeIndex object, which is a powerful, optimized index specifically for time series data. This allows you to treat a date or time as a primary key for your data. You can easily:\n",
        "\n",
        "Convert a variety of date and time formats into the standard datetime64[ns] format using pd.to_datetime().\n",
        "\n",
        "Create a date range with a specific frequency (e.g., daily, hourly, or even minutes) using the pd.date_range() function.\n",
        "\n",
        "2. Convenient Time-Based Indexing and Slicing\n",
        "With a DatetimeIndex, you can use string-based slicing and indexing to select data. This is much more intuitive than using integer indices. For example, to get all data for the year 2023, you can simply write df['2023'], or to get data for a specific month, df['2023-01']. You can even slice across a range of dates, like df['2023-01-01':'2023-01-31'].\n",
        "\n",
        "3. Resampling and Frequency Conversion\n",
        "The resample() method is a game-changer for time series analysis. It allows you to change the frequency of your data. You can:\n",
        "\n",
        "Downsample: Aggregate data from a higher frequency to a lower frequency (e.g., daily data to weekly or monthly). This is crucial for smoothing out noise and identifying long-term trends. You can apply various aggregation functions like mean(), sum(), or max() to the resampled data.\n",
        "\n",
        "Upsample: Increase the frequency of your data (e.g., monthly data to daily). This is often used with methods to fill in the new gaps, such as forward-filling (ffill()) or backward-filling (bfill()).\n",
        "\n",
        "4. Handling of Time-Related Operations\n",
        "\n",
        "Pandas includes built-in functions for common time series tasks:\n",
        "\n",
        "Rolling Window Calculations: The rolling() function is used for calculating moving averages or other statistics over a fixed-size window of time. This is essential for smoothing out data and understanding trends.\n",
        "\n",
        "Shifting Data: The shift() function allows you to move data forward or backward in time, which is necessary for calculating lagged features and analyzing temporal relationships.\n",
        "\n",
        "Time Deltas: You can easily calculate the duration between two timestamps, which is useful for tasks like calculating the time between events.\n",
        "\n",
        "\n",
        "Sources\n"
      ],
      "metadata": {
        "id": "JiYOHuchLdJY"
      }
    },
    {
      "cell_type": "markdown",
      "source": [
        "20. What is the role of a pivot table in Pandas?\n",
        "\n",
        "\n",
        "A pivot table in Pandas is a powerful data summarization tool that aggregates and reshapes a DataFrame. Its primary role is to reorganize data from a \"long\" or \"tidy\" format into a \"wide\" format, making it easier to analyze and visualize. It's similar to a spreadsheet pivot table, allowing you to group data by one or more columns and then apply an aggregation function to another column, producing a concise summary.\n",
        "\n",
        "Key Roles of a Pivot Table in Pandas:\n",
        "\n",
        "1.Data Aggregation and Summarization\n",
        "2.Data Reshaping\n",
        "Pivot tables fundamentally reshape your data.\n",
        "3.Multi-level Indexing\n",
        "Pandas pivot tables support hierarchical indexing, allowing you to use multiple columns for the rows or columns.\n",
        "4.Missing Value Handling\n",
        "Pivot tables automatically handle missing values by default, often filling them with NaN."
      ],
      "metadata": {
        "id": "YXz-n1BtLvfP"
      }
    },
    {
      "cell_type": "markdown",
      "source": [
        "21. Why is NumPy’s array slicing faster than Python’s list slicing?\n",
        "\n",
        "NumPy's array slicing is faster than Python's list slicing primarily because of how the two data structures are stored in memory.\n",
        "\n",
        "NumPy Slicing Creates a View\n",
        "When you slice a NumPy array, you are creating a view of the original data. This means the new array object you get from the slice is simply a reference to a portion of the original array's memory, rather than a new, independent copy. This is an incredibly fast operation because it doesn't involve allocating new memory or copying any data. It just creates a new header with metadata that points to the relevant section of the existing array. Any changes made to the sliced view will directly modify the original array.\n",
        "\n",
        "Python Slicing Creates a Copy\n",
        "In contrast, when you slice a Python list, a completely new list is created in memory, and the elements from the original list are copied into it. This process is slower and more memory-intensive, especially for large lists, because it requires a new memory allocation and a full data copy.\n",
        "\n",
        "Contiguous Memory Storage\n",
        "The underlying reason for this difference is how the elements themselves are stored.\n",
        "\n",
        "NumPy Arrays are homogeneous, meaning all elements have the same data type. This allows NumPy to store them in a single, contiguous block of memory. This sequential memory layout allows for very fast access to elements.\n",
        "\n",
        "Python Lists are heterogeneous and can store elements of different data types. Because of this, a list doesn't store the actual data but rather an array of pointers to the individual objects (which can be scattered throughout memory). This extra layer of indirection and non-contiguous memory access makes slicing, and other operations, less efficient."
      ],
      "metadata": {
        "id": "l_maJDTEMH_5"
      }
    },
    {
      "cell_type": "markdown",
      "source": [
        "22.  What are some common use cases for Seaborn?\n",
        "\n",
        "\n",
        "Common Use Cases for Seaborn\n",
        "Statistical Analysis: Seaborn's primary strength lies in visualizing statistical relationships. It's often used to explore relationships between variables using plots like regression plots (regplot) to show linear relationships, and joint plots (jointplot) to visualize the relationship between two variables and their individual distributions.\n",
        "\n",
        "Data Distribution Visualization: You can easily visualize the distribution of a dataset using Seaborn's specialized plots. A histogram (histplot) shows the frequency of data points within bins, while a kernel density estimate (kdeplot) provides a smooth curve of the data distribution. A violin plot (violinplot) combines a box plot and a kernel density estimate to show the distribution of data across different categories.\n",
        "\n",
        "Categorical Data Analysis: Seaborn makes it simple to visualize and compare categorical data. A bar plot (barplot) shows the mean of a numerical variable for each category, and a count plot (countplot) shows the number of occurrences for each category. A box plot (boxplot) is a common tool for showing the distribution of numerical data across different categories.\n",
        "\n",
        "Correlation and Heatmaps: A heatmap (heatmap) is one of Seaborn's most useful tools. It's used to visualize a correlation matrix, where the strength of the relationship between pairs of variables is represented by color intensity. This allows for a quick visual summary of correlations in a dataset.\n",
        "\n",
        "Multi-variable Exploration: Seaborn's pairplot() function is an excellent tool for a quick overview of a dataset. It creates a grid of plots, showing scatter plots for every pair of variables and a histogram of each individual variable on the diagonal. This provides a comprehensive look at the relationships and distributions of all variables at once."
      ],
      "metadata": {
        "id": "54CI4lIBMbUz"
      }
    },
    {
      "cell_type": "markdown",
      "source": [
        "# PRACTICAL SOLUTIONSA"
      ],
      "metadata": {
        "id": "2EzVR6FkMnIZ"
      }
    },
    {
      "cell_type": "markdown",
      "source": [
        "1. How do you create a 2D NumPy array and calculate the sum of each row?"
      ],
      "metadata": {
        "id": "ZnJvd34LMqod"
      }
    },
    {
      "cell_type": "code",
      "metadata": {
        "colab": {
          "base_uri": "https://localhost:8080/"
        },
        "id": "d75ff00a",
        "outputId": "e69e8587-27fa-4854-cb1a-4d624d7347ed"
      },
      "source": [
        "import numpy as np\n",
        "\n",
        "# Create a 2D NumPy array\n",
        "array_2d = np.array([[1, 2, 3],\n",
        "                     [4, 5, 6],\n",
        "                     [7, 8, 9]])\n",
        "\n",
        "# Calculate the sum of each row\n",
        "row_sum = np.sum(array_2d, axis=1)\n",
        "\n",
        "print(\"2D Array:\")\n",
        "print(array_2d)\n",
        "print(\"\\nSum of each row:\")\n",
        "print(row_sum)"
      ],
      "execution_count": null,
      "outputs": [
        {
          "output_type": "stream",
          "name": "stdout",
          "text": [
            "2D Array:\n",
            "[[1 2 3]\n",
            " [4 5 6]\n",
            " [7 8 9]]\n",
            "\n",
            "Sum of each row:\n",
            "[ 6 15 24]\n"
          ]
        }
      ]
    },
    {
      "cell_type": "markdown",
      "source": [
        "2. Write a Pandas script to find the mean of a specific column in a DataFrame."
      ],
      "metadata": {
        "id": "T9D3WuXUM6Od"
      }
    },
    {
      "cell_type": "code",
      "metadata": {
        "colab": {
          "base_uri": "https://localhost:8080/"
        },
        "id": "53eed2ac",
        "outputId": "aeb81011-d1ed-4e3d-c15e-8a8ce56c13ff"
      },
      "source": [
        "import pandas as pd\n",
        "\n",
        "# Create a sample DataFrame\n",
        "data = {'col1': [10, 20, 30, 40, 50],\n",
        "        'col2': [15, 25, 35, 45, 55]}\n",
        "df = pd.DataFrame(data)\n",
        "\n",
        "print(\"DataFrame:\")\n",
        "print(df)\n",
        "\n",
        "# Specify the column for which you want to find the mean\n",
        "column_name = 'col1'\n",
        "\n",
        "# Calculate the mean of the specified column\n",
        "mean_value = df[column_name].mean()\n",
        "\n",
        "print(f\"\\nMean of column '{column_name}':\")\n",
        "print(mean_value)"
      ],
      "execution_count": null,
      "outputs": [
        {
          "output_type": "stream",
          "name": "stdout",
          "text": [
            "DataFrame:\n",
            "   col1  col2\n",
            "0    10    15\n",
            "1    20    25\n",
            "2    30    35\n",
            "3    40    45\n",
            "4    50    55\n",
            "\n",
            "Mean of column 'col1':\n",
            "30.0\n"
          ]
        }
      ]
    },
    {
      "cell_type": "markdown",
      "source": [
        "3. Create a scatter plot using Matplotlib."
      ],
      "metadata": {
        "id": "lXgzfTOwNAxY"
      }
    },
    {
      "cell_type": "code",
      "metadata": {
        "colab": {
          "base_uri": "https://localhost:8080/",
          "height": 460
        },
        "id": "f68d387a",
        "outputId": "e0baf9ce-5ed1-480a-a009-c3820c395595"
      },
      "source": [
        "import seaborn as sns\n",
        "import matplotlib.pyplot as plt\n",
        "\n",
        "# Calculate the correlation matrix\n",
        "correlation_matrix = df.corr()\n",
        "\n",
        "print(\"Correlation Matrix:\")\n",
        "print(correlation_matrix)\n",
        "\n",
        "# Visualize the correlation matrix with a heatmap\n",
        "plt.figure(figsize=(6, 4))\n",
        "sns.heatmap(correlation_matrix, annot=True, cmap='coolwarm', fmt=\".2f\")\n",
        "plt.title('Correlation Heatmap')\n",
        "plt.show()"
      ],
      "execution_count": null,
      "outputs": [
        {
          "output_type": "stream",
          "name": "stdout",
          "text": [
            "Correlation Matrix:\n",
            "      col1  col2\n",
            "col1   1.0   1.0\n",
            "col2   1.0   1.0\n"
          ]
        },
        {
          "output_type": "display_data",
          "data": {
            "text/plain": [
              "<Figure size 600x400 with 2 Axes>"
            ],
            "image/png": "[encoded data removed]"
          },
          "metadata": {}
        }
      ]
    },
    {
      "cell_type": "code",
      "metadata": {
        "colab": {
          "base_uri": "https://localhost:8080/",
          "height": 491
        },
        "id": "0a1d2937",
        "outputId": "127d9599-737f-4626-cd3e-8e1987e7b8a0"
      },
      "source": [
        "import matplotlib.pyplot as plt\n",
        "\n",
        "# Create a scatter plot using the existing DataFrame 'df'\n",
        "plt.figure(figsize=(8, 6))\n",
        "plt.scatter(df['col1'], df['col2'])\n",
        "\n",
        "# Add labels and title\n",
        "plt.xlabel('col1')\n",
        "plt.ylabel('col2')\n",
        "plt.title('Scatter Plot of col1 vs col2')\n",
        "\n",
        "# Display the plot\n",
        "plt.show()"
      ],
      "execution_count": null,
      "outputs": [
        {
          "output_type": "display_data",
          "data": {
            "text/plain": [
              "<Figure size 800x600 with 1 Axes>"
            ],
            "image/png": "[encoded data removed]"
          },
          "metadata": {}
        }
      ]
    },
    {
      "cell_type": "markdown",
      "source": [
        "4. How do you calculate the correlation matrix using Seaborn and visualize it with a heatmap?\n"
      ],
      "metadata": {
        "id": "S0-Evy_nNHrs"
      }
    },
    {
      "cell_type": "markdown",
      "metadata": {
        "id": "c40d5b49"
      },
      "source": [
        "To calculate the correlation matrix using Seaborn and visualize it with a heatmap, you can use the following steps:\n",
        "\n",
        "1.  **Import Libraries:** Import the necessary libraries: `seaborn` for visualization and `matplotlib.pyplot` for displaying the plot.\n",
        "2.  **Calculate Correlation Matrix:** Use the `.corr()` method on your Pandas DataFrame to compute the pairwise correlation of columns. This returns a correlation matrix.\n",
        "3.  **Create Heatmap:** Use `seaborn.heatmap()` to create the heatmap.\n",
        "    *   Pass the calculated `correlation_matrix` to the function.\n",
        "    *   `annot=True` displays the correlation values on the heatmap cells.\n",
        "    *   `cmap='coolwarm'` sets the color scheme (you can choose other colormaps).\n",
        "    *   `fmt=\".2f\"` formats the annotations to two decimal places.\n",
        "4.  **Add Title and Display:** Add a title to the plot using `plt.title()` and display the plot using `plt.show()`."
      ]
    },
    {
      "cell_type": "markdown",
      "source": [
        "5. Generate a bar plot using Plotly."
      ],
      "metadata": {
        "id": "IULFJyGKOHBd"
      }
    },
    {
      "cell_type": "code",
      "metadata": {
        "colab": {
          "base_uri": "https://localhost:8080/",
          "height": 542
        },
        "id": "ea69c8ef",
        "outputId": "a181b36c-6f77-412d-a7ba-24090872d4cb"
      },
      "source": [
        "import plotly.express as px\n",
        "\n",
        "# Create a bar plot using the existing DataFrame 'df'\n",
        "fig = px.bar(df, x='col1', y='col2', title='Bar Plot of col1 vs col2')\n",
        "\n",
        "# Display the plot\n",
        "fig.show()"
      ],
      "execution_count": 5,
      "outputs": [
        {
          "output_type": "display_data",
          "data": {
            "text/html": [
              "<html>\n",
              "<head><meta charset=\"utf-8\" /></head>\n",
              "<body>\n",
              "    <div>            <script src=\"https://cdnjs.cloudflare.com/ajax/libs/mathjax/2.7.5/MathJax.js?config=TeX-AMS-MML_SVG\"></script><script type=\"text/javascript\">if (window.MathJax && window.MathJax.Hub && window.MathJax.Hub.Config) {window.MathJax.Hub.Config({SVG: {font: \"STIX-Web\"}});}</script>                <script type=\"text/javascript\">window.PlotlyConfig = {MathJaxConfig: 'local'};</script>\n",
              "        <script charset=\"utf-8\" src=\"https://cdn.plot.ly/plotly-2.35.2.min.js\"></script>                <div id=\"4eb13afb-850c-42ee-a8c8-b688b10c3b44\" class=\"plotly-graph-div\" style=\"height:525px; width:100%;\"></div>            <script type=\"text/javascript\">                                    window.PLOTLYENV=window.PLOTLYENV || {};                                    if (document.getElementById(\"4eb13afb-850c-42ee-a8c8-b688b10c3b44\")) {                    Plotly.newPlot(                        \"4eb13afb-850c-42ee-a8c8-b688b10c3b44\",                        [{\"alignmentgroup\":\"True\",\"hovertemplate\":\"col1=%{x}\\u003cbr\\u003ecol2=%{y}\\u003cextra\\u003e\\u003c\\u002fextra\\u003e\",\"legendgroup\":\"\",\"marker\":{\"color\":\"#636efa\",\"pattern\":{\"shape\":\"\"}},\"name\":\"\",\"offsetgroup\":\"\",\"orientation\":\"v\",\"showlegend\":false,\"textposition\":\"auto\",\"x\":[10,20,30,40,50],\"xaxis\":\"x\",\"y\":[15,25,35,45,55],\"yaxis\":\"y\",\"type\":\"bar\"}],                        {\"template\":{\"data\":{\"histogram2dcontour\":[{\"type\":\"histogram2dcontour\",\"colorbar\":{\"outlinewidth\":0,\"ticks\":\"\"},\"colorscale\":[[0.0,\"#0d0887\"],[0.1111111111111111,\"#46039f\"],[0.2222222222222222,\"#7201a8\"],[0.3333333333333333,\"#9c179e\"],[0.4444444444444444,\"#bd3786\"],[0.5555555555555556,\"#d8576b\"],[0.6666666666666666,\"#ed7953\"],[0.7777777777777778,\"#fb9f3a\"],[0.8888888888888888,\"#fdca26\"],[1.0,\"#f0f921\"]]}],\"choropleth\":[{\"type\":\"choropleth\",\"colorbar\":{\"outlinewidth\":0,\"ticks\":\"\"}}],\"histogram2d\":[{\"type\":\"histogram2d\",\"colorbar\":{\"outlinewidth\":0,\"ticks\":\"\"},\"colorscale\":[[0.0,\"#0d0887\"],[0.1111111111111111,\"#46039f\"],[0.2222222222222222,\"#7201a8\"],[0.3333333333333333,\"#9c179e\"],[0.4444444444444444,\"#bd3786\"],[0.5555555555555556,\"#d8576b\"],[0.6666666666666666,\"#ed7953\"],[0.7777777777777778,\"#fb9f3a\"],[0.8888888888888888,\"#fdca26\"],[1.0,\"#f0f921\"]]}],\"heatmap\":[{\"type\":\"heatmap\",\"colorbar\":{\"outlinewidth\":0,\"ticks\":\"\"},\"colorscale\":[[0.0,\"#0d0887\"],[0.1111111111111111,\"#46039f\"],[0.2222222222222222,\"#7201a8\"],[0.3333333333333333,\"#9c179e\"],[0.4444444444444444,\"#bd3786\"],[0.5555555555555556,\"#d8576b\"],[0.6666666666666666,\"#ed7953\"],[0.7777777777777778,\"#fb9f3a\"],[0.8888888888888888,\"#fdca26\"],[1.0,\"#f0f921\"]]}],\"heatmapgl\":[{\"type\":\"heatmapgl\",\"colorbar\":{\"outlinewidth\":0,\"ticks\":\"\"},\"colorscale\":[[0.0,\"#0d0887\"],[0.1111111111111111,\"#46039f\"],[0.2222222222222222,\"#7201a8\"],[0.3333333333333333,\"#9c179e\"],[0.4444444444444444,\"#bd3786\"],[0.5555555555555556,\"#d8576b\"],[0.6666666666666666,\"#ed7953\"],[0.7777777777777778,\"#fb9f3a\"],[0.8888888888888888,\"#fdca26\"],[1.0,\"#f0f921\"]]}],\"contourcarpet\":[{\"type\":\"contourcarpet\",\"colorbar\":{\"outlinewidth\":0,\"ticks\":\"\"}}],\"contour\":[{\"type\":\"contour\",\"colorbar\":{\"outlinewidth\":0,\"ticks\":\"\"},\"colorscale\":[[0.0,\"#0d0887\"],[0.1111111111111111,\"#46039f\"],[0.2222222222222222,\"#7201a8\"],[0.3333333333333333,\"#9c179e\"],[0.4444444444444444,\"#bd3786\"],[0.5555555555555556,\"#d8576b\"],[0.6666666666666666,\"#ed7953\"],[0.7777777777777778,\"#fb9f3a\"],[0.8888888888888888,\"#fdca26\"],[1.0,\"#f0f921\"]]}],\"surface\":[{\"type\":\"surface\",\"colorbar\":{\"outlinewidth\":0,\"ticks\":\"\"},\"colorscale\":[[0.0,\"#0d0887\"],[0.1111111111111111,\"#46039f\"],[0.2222222222222222,\"#7201a8\"],[0.3333333333333333,\"#9c179e\"],[0.4444444444444444,\"#bd3786\"],[0.5555555555555556,\"#d8576b\"],[0.6666666666666666,\"#ed7953\"],[0.7777777777777778,\"#fb9f3a\"],[0.8888888888888888,\"#fdca26\"],[1.0,\"#f0f921\"]]}],\"mesh3d\":[{\"type\":\"mesh3d\",\"colorbar\":{\"outlinewidth\":0,\"ticks\":\"\"}}],\"scatter\":[{\"fillpattern\":{\"fillmode\":\"overlay\",\"size\":10,\"solidity\":0.2},\"type\":\"scatter\"}],\"parcoords\":[{\"type\":\"parcoords\",\"line\":{\"colorbar\":{\"outlinewidth\":0,\"ticks\":\"\"}}}],\"scatterpolargl\":[{\"type\":\"scatterpolargl\",\"marker\":{\"colorbar\":{\"outlinewidth\":0,\"ticks\":\"\"}}}],\"bar\":[{\"error_x\":{\"color\":\"#2a3f5f\"},\"error_y\":{\"color\":\"#2a3f5f\"},\"marker\":{\"line\":{\"color\":\"#E5ECF6\",\"width\":0.5},\"pattern\":{\"fillmode\":\"overlay\",\"size\":10,\"solidity\":0.2}},\"type\":\"bar\"}],\"scattergeo\":[{\"type\":\"scattergeo\",\"marker\":{\"colorbar\":{\"outlinewidth\":0,\"ticks\":\"\"}}}],\"scatterpolar\":[{\"type\":\"scatterpolar\",\"marker\":{\"colorbar\":{\"outlinewidth\":0,\"ticks\":\"\"}}}],\"histogram\":[{\"marker\":{\"pattern\":{\"fillmode\":\"overlay\",\"size\":10,\"solidity\":0.2}},\"type\":\"histogram\"}],\"scattergl\":[{\"type\":\"scattergl\",\"marker\":{\"colorbar\":{\"outlinewidth\":0,\"ticks\":\"\"}}}],\"scatter3d\":[{\"type\":\"scatter3d\",\"line\":{\"colorbar\":{\"outlinewidth\":0,\"ticks\":\"\"}},\"marker\":{\"colorbar\":{\"outlinewidth\":0,\"ticks\":\"\"}}}],\"scattermapbox\":[{\"type\":\"scattermapbox\",\"marker\":{\"colorbar\":{\"outlinewidth\":0,\"ticks\":\"\"}}}],\"scatterternary\":[{\"type\":\"scatterternary\",\"marker\":{\"colorbar\":{\"outlinewidth\":0,\"ticks\":\"\"}}}],\"scattercarpet\":[{\"type\":\"scattercarpet\",\"marker\":{\"colorbar\":{\"outlinewidth\":0,\"ticks\":\"\"}}}],\"carpet\":[{\"aaxis\":{\"endlinecolor\":\"#2a3f5f\",\"gridcolor\":\"white\",\"linecolor\":\"white\",\"minorgridcolor\":\"white\",\"startlinecolor\":\"#2a3f5f\"},\"baxis\":{\"endlinecolor\":\"#2a3f5f\",\"gridcolor\":\"white\",\"linecolor\":\"white\",\"minorgridcolor\":\"white\",\"startlinecolor\":\"#2a3f5f\"},\"type\":\"carpet\"}],\"table\":[{\"cells\":{\"fill\":{\"color\":\"#EBF0F8\"},\"line\":{\"color\":\"white\"}},\"header\":{\"fill\":{\"color\":\"#C8D4E3\"},\"line\":{\"color\":\"white\"}},\"type\":\"table\"}],\"barpolar\":[{\"marker\":{\"line\":{\"color\":\"#E5ECF6\",\"width\":0.5},\"pattern\":{\"fillmode\":\"overlay\",\"size\":10,\"solidity\":0.2}},\"type\":\"barpolar\"}],\"pie\":[{\"automargin\":true,\"type\":\"pie\"}]},\"layout\":{\"autotypenumbers\":\"strict\",\"colorway\":[\"#636efa\",\"#EF553B\",\"#00cc96\",\"#ab63fa\",\"#FFA15A\",\"#19d3f3\",\"#FF6692\",\"#B6E880\",\"#FF97FF\",\"#FECB52\"],\"font\":{\"color\":\"#2a3f5f\"},\"hovermode\":\"closest\",\"hoverlabel\":{\"align\":\"left\"},\"paper_bgcolor\":\"white\",\"plot_bgcolor\":\"#E5ECF6\",\"polar\":{\"bgcolor\":\"#E5ECF6\",\"angularaxis\":{\"gridcolor\":\"white\",\"linecolor\":\"white\",\"ticks\":\"\"},\"radialaxis\":{\"gridcolor\":\"white\",\"linecolor\":\"white\",\"ticks\":\"\"}},\"ternary\":{\"bgcolor\":\"#E5ECF6\",\"aaxis\":{\"gridcolor\":\"white\",\"linecolor\":\"white\",\"ticks\":\"\"},\"baxis\":{\"gridcolor\":\"white\",\"linecolor\":\"white\",\"ticks\":\"\"},\"caxis\":{\"gridcolor\":\"white\",\"linecolor\":\"white\",\"ticks\":\"\"}},\"coloraxis\":{\"colorbar\":{\"outlinewidth\":0,\"ticks\":\"\"}},\"colorscale\":{\"sequential\":[[0.0,\"#0d0887\"],[0.1111111111111111,\"#46039f\"],[0.2222222222222222,\"#7201a8\"],[0.3333333333333333,\"#9c179e\"],[0.4444444444444444,\"#bd3786\"],[0.5555555555555556,\"#d8576b\"],[0.6666666666666666,\"#ed7953\"],[0.7777777777777778,\"#fb9f3a\"],[0.8888888888888888,\"#fdca26\"],[1.0,\"#f0f921\"]],\"sequentialminus\":[[0.0,\"#0d0887\"],[0.1111111111111111,\"#46039f\"],[0.2222222222222222,\"#7201a8\"],[0.3333333333333333,\"#9c179e\"],[0.4444444444444444,\"#bd3786\"],[0.5555555555555556,\"#d8576b\"],[0.6666666666666666,\"#ed7953\"],[0.7777777777777778,\"#fb9f3a\"],[0.8888888888888888,\"#fdca26\"],[1.0,\"#f0f921\"]],\"diverging\":[[0,\"#8e0152\"],[0.1,\"#c51b7d\"],[0.2,\"#de77ae\"],[0.3,\"#f1b6da\"],[0.4,\"#fde0ef\"],[0.5,\"#f7f7f7\"],[0.6,\"#e6f5d0\"],[0.7,\"#b8e186\"],[0.8,\"#7fbc41\"],[0.9,\"#4d9221\"],[1,\"#276419\"]]},\"xaxis\":{\"gridcolor\":\"white\",\"linecolor\":\"white\",\"ticks\":\"\",\"title\":{\"standoff\":15},\"zerolinecolor\":\"white\",\"automargin\":true,\"zerolinewidth\":2},\"yaxis\":{\"gridcolor\":\"white\",\"linecolor\":\"white\",\"ticks\":\"\",\"title\":{\"standoff\":15},\"zerolinecolor\":\"white\",\"automargin\":true,\"zerolinewidth\":2},\"scene\":{\"xaxis\":{\"backgroundcolor\":\"#E5ECF6\",\"gridcolor\":\"white\",\"linecolor\":\"white\",\"showbackground\":true,\"ticks\":\"\",\"zerolinecolor\":\"white\",\"gridwidth\":2},\"yaxis\":{\"backgroundcolor\":\"#E5ECF6\",\"gridcolor\":\"white\",\"linecolor\":\"white\",\"showbackground\":true,\"ticks\":\"\",\"zerolinecolor\":\"white\",\"gridwidth\":2},\"zaxis\":{\"backgroundcolor\":\"#E5ECF6\",\"gridcolor\":\"white\",\"linecolor\":\"white\",\"showbackground\":true,\"ticks\":\"\",\"zerolinecolor\":\"white\",\"gridwidth\":2}},\"shapedefaults\":{\"line\":{\"color\":\"#2a3f5f\"}},\"annotationdefaults\":{\"arrowcolor\":\"#2a3f5f\",\"arrowhead\":0,\"arrowwidth\":1},\"geo\":{\"bgcolor\":\"white\",\"landcolor\":\"#E5ECF6\",\"subunitcolor\":\"white\",\"showland\":true,\"showlakes\":true,\"lakecolor\":\"white\"},\"title\":{\"x\":0.05},\"mapbox\":{\"style\":\"light\"}}},\"xaxis\":{\"anchor\":\"y\",\"domain\":[0.0,1.0],\"title\":{\"text\":\"col1\"}},\"yaxis\":{\"anchor\":\"x\",\"domain\":[0.0,1.0],\"title\":{\"text\":\"col2\"}},\"legend\":{\"tracegroupgap\":0},\"title\":{\"text\":\"Bar Plot of col1 vs col2\"},\"barmode\":\"relative\"},                        {\"responsive\": true}                    ).then(function(){\n",
              "                            \n",
              "var gd = document.getElementById('4eb13afb-850c-42ee-a8c8-b688b10c3b44');\n",
              "var x = new MutationObserver(function (mutations, observer) {{\n",
              "        var display = window.getComputedStyle(gd).display;\n",
              "        if (!display || display === 'none') {{\n",
              "            console.log([gd, 'removed!']);\n",
              "            Plotly.purge(gd);\n",
              "            observer.disconnect();\n",
              "        }}\n",
              "}});\n",
              "\n",
              "// Listen for the removal of the full notebook cells\n",
              "var notebookContainer = gd.closest('#notebook-container');\n",
              "if (notebookContainer) {{\n",
              "    x.observe(notebookContainer, {childList: true});\n",
              "}}\n",
              "\n",
              "// Listen for the clearing of the current output cell\n",
              "var outputEl = gd.closest('.output');\n",
              "if (outputEl) {{\n",
              "    x.observe(outputEl, {childList: true});\n",
              "}}\n",
              "\n",
              "                        })                };                            </script>        </div>\n",
              "</body>\n",
              "</html>"
            ]
          },
          "metadata": {}
        }
      ]
    },
    {
      "cell_type": "markdown",
      "source": [
        "6.  Create a DataFrame and add a new column based on an existing column."
      ],
      "metadata": {
        "id": "w8vlsP7MOSuU"
      }
    },
    {
      "cell_type": "code",
      "metadata": {
        "colab": {
          "base_uri": "https://localhost:8080/"
        },
        "id": "7dcdadd3",
        "outputId": "20d36253-fb50-423d-97f2-771c9aa803ae"
      },
      "source": [
        "import pandas as pd\n",
        "\n",
        "# Create a sample DataFrame\n",
        "data = {'col1': [10, 20, 30, 40, 50],\n",
        "        'col2': [15, 25, 35, 45, 55]}\n",
        "df_new = pd.DataFrame(data)\n",
        "\n",
        "# Add a new column ('col3') which is the sum of 'col1' and 'col2'\n",
        "df_new['col3'] = df_new['col1'] + df_new['col2']\n",
        "\n",
        "print(\"DataFrame with new column:\")\n",
        "print(df_new)"
      ],
      "execution_count": 6,
      "outputs": [
        {
          "output_type": "stream",
          "name": "stdout",
          "text": [
            "DataFrame with new column:\n",
            "   col1  col2  col3\n",
            "0    10    15    25\n",
            "1    20    25    45\n",
            "2    30    35    65\n",
            "3    40    45    85\n",
            "4    50    55   105\n"
          ]
        }
      ]
    },
    {
      "cell_type": "markdown",
      "source": [
        "7.  Write a program to perform element-wise multiplication of two NumPy arrays."
      ],
      "metadata": {
        "id": "IBuwxXLsObgz"
      }
    },
    {
      "cell_type": "code",
      "metadata": {
        "colab": {
          "base_uri": "https://localhost:8080/"
        },
        "id": "6525e853",
        "outputId": "8416144c-b0e5-4c36-81ee-3315d51fd170"
      },
      "source": [
        "import numpy as np\n",
        "\n",
        "# Create two NumPy arrays\n",
        "array1 = np.array([1, 2, 3, 4, 5])\n",
        "array2 = np.array([6, 7, 8, 9, 10])\n",
        "\n",
        "# Perform element-wise multiplication\n",
        "result_array = array1 * array2\n",
        "\n",
        "print(\"Array 1:\")\n",
        "print(array1)\n",
        "print(\"\\nArray 2:\")\n",
        "print(array2)\n",
        "print(\"\\nElement-wise multiplication result:\")\n",
        "print(result_array)"
      ],
      "execution_count": 7,
      "outputs": [
        {
          "output_type": "stream",
          "name": "stdout",
          "text": [
            "Array 1:\n",
            "[1 2 3 4 5]\n",
            "\n",
            "Array 2:\n",
            "[ 6  7  8  9 10]\n",
            "\n",
            "Element-wise multiplication result:\n",
            "[ 6 14 24 36 50]\n"
          ]
        }
      ]
    },
    {
      "cell_type": "markdown",
      "source": [
        "8. Create a line plot with multiple lines using Matplotlib."
      ],
      "metadata": {
        "id": "QGjpUqQ9Okpo"
      }
    },
    {
      "cell_type": "code",
      "metadata": {
        "colab": {
          "base_uri": "https://localhost:8080/",
          "height": 564
        },
        "id": "fe782c95",
        "outputId": "cfb361cf-1cbf-44a6-f486-12a6bddb76e7"
      },
      "source": [
        "import matplotlib.pyplot as plt\n",
        "import numpy as np\n",
        "\n",
        "# Create sample data\n",
        "x = np.array([1, 2, 3, 4, 5])\n",
        "y1 = np.array([10, 12, 15, 13, 18])\n",
        "y2 = np.array([5, 8, 11, 9, 14])\n",
        "\n",
        "# Create the plot\n",
        "plt.figure(figsize=(8, 6))\n",
        "\n",
        "# Plot the first line\n",
        "plt.plot(x, y1, marker='o', linestyle='-', color='b', label='Line 1')\n",
        "\n",
        "# Plot the second line\n",
        "plt.plot(x, y2, marker='x', linestyle='--', color='r', label='Line 2')\n",
        "\n",
        "# Add labels, title, and legend\n",
        "plt.xlabel('X-axis')\n",
        "plt.ylabel('Y-axis')\n",
        "plt.title('Line Plot with Multiple Lines')\n",
        "plt.legend()\n",
        "plt.grid(True)\n",
        "\n",
        "# Display the plot\n",
        "plt.show()"
      ],
      "execution_count": 8,
      "outputs": [
        {
          "output_type": "display_data",
          "data": {
            "text/plain": [
              "<Figure size 800x600 with 1 Axes>"
            ],
            "image/png": "[encoded data removed]"
          },
          "metadata": {}
        }
      ]
    },
    {
      "cell_type": "markdown",
      "source": [
        "9.  Generate a Pandas DataFrame and filter rows where a column value is greater than a threshold."
      ],
      "metadata": {
        "id": "jK01XH__Ori6"
      }
    },
    {
      "cell_type": "code",
      "metadata": {
        "colab": {
          "base_uri": "https://localhost:8080/"
        },
        "id": "506c1d9f",
        "outputId": "086bbf54-3e07-40e5-ed4f-2683a277fb2f"
      },
      "source": [
        "import pandas as pd\n",
        "\n",
        "# Create a sample DataFrame\n",
        "data = {'col1': [10, 20, 30, 40, 50],\n",
        "        'col2': [15, 25, 35, 45, 55]}\n",
        "df_filter = pd.DataFrame(data)\n",
        "\n",
        "print(\"Original DataFrame:\")\n",
        "print(df_filter)\n",
        "\n",
        "# Define a threshold value\n",
        "threshold = 30\n",
        "\n",
        "# Filter rows where 'col1' is greater than the threshold\n",
        "filtered_df = df_filter[df_filter['col1'] > threshold]\n",
        "\n",
        "print(f\"\\nDataFrame filtered where 'col1' is greater than {threshold}:\")\n",
        "print(filtered_df)"
      ],
      "execution_count": 9,
      "outputs": [
        {
          "output_type": "stream",
          "name": "stdout",
          "text": [
            "Original DataFrame:\n",
            "   col1  col2\n",
            "0    10    15\n",
            "1    20    25\n",
            "2    30    35\n",
            "3    40    45\n",
            "4    50    55\n",
            "\n",
            "DataFrame filtered where 'col1' is greater than 30:\n",
            "   col1  col2\n",
            "3    40    45\n",
            "4    50    55\n"
          ]
        }
      ]
    },
    {
      "cell_type": "markdown",
      "source": [
        "10. Create a histogram using Seaborn to visualize a distribution."
      ],
      "metadata": {
        "id": "qDDvEFRxO3ba"
      }
    },
    {
      "cell_type": "code",
      "metadata": {
        "colab": {
          "base_uri": "https://localhost:8080/",
          "height": 564
        },
        "id": "5d4c6cf4",
        "outputId": "b07311df-77a2-4a9f-c73e-1beea52a1c93"
      },
      "source": [
        "import seaborn as sns\n",
        "import matplotlib.pyplot as plt\n",
        "import numpy as np\n",
        "\n",
        "# Create sample data\n",
        "data = np.random.randn(100)\n",
        "\n",
        "# Create a histogram using Seaborn\n",
        "plt.figure(figsize=(8, 6))\n",
        "sns.histplot(data, kde=True) # kde=True adds a Kernel Density Estimate line\n",
        "\n",
        "# Add labels and title\n",
        "plt.xlabel('Value')\n",
        "plt.ylabel('Frequency')\n",
        "plt.title('Histogram of Sample Data')\n",
        "\n",
        "# Display the plot\n",
        "plt.show()"
      ],
      "execution_count": 10,
      "outputs": [
        {
          "output_type": "display_data",
          "data": {
            "text/plain": [
              "<Figure size 800x600 with 1 Axes>"
            ],
            "image/png": "[encoded data removed]"
          },
          "metadata": {}
        }
      ]
    },
    {
      "cell_type": "markdown",
      "source": [
        "11. Perform matrix multiplication using NumPy."
      ],
      "metadata": {
        "id": "W3C6lY5dPBpm"
      }
    },
    {
      "cell_type": "code",
      "metadata": {
        "colab": {
          "base_uri": "https://localhost:8080/"
        },
        "id": "6fcf187b",
        "outputId": "16477af9-e62c-478d-8d62-5eb612c8e1f7"
      },
      "source": [
        "import numpy as np\n",
        "\n",
        "# Create two NumPy matrices\n",
        "matrix1 = np.array([[1, 2],\n",
        "                    [3, 4]])\n",
        "\n",
        "matrix2 = np.array([[5, 6],\n",
        "                    [7, 8]])\n",
        "\n",
        "print(\"Matrix 1:\")\n",
        "print(matrix1)\n",
        "\n",
        "print(\"\\nMatrix 2:\")\n",
        "print(matrix2)\n",
        "\n",
        "# Perform matrix multiplication using the @ operator\n",
        "result_matrix = matrix1 @ matrix2\n",
        "\n",
        "print(\"\\nMatrix multiplication result:\")\n",
        "print(result_matrix)"
      ],
      "execution_count": 11,
      "outputs": [
        {
          "output_type": "stream",
          "name": "stdout",
          "text": [
            "Matrix 1:\n",
            "[[1 2]\n",
            " [3 4]]\n",
            "\n",
            "Matrix 2:\n",
            "[[5 6]\n",
            " [7 8]]\n",
            "\n",
            "Matrix multiplication result:\n",
            "[[19 22]\n",
            " [43 50]]\n"
          ]
        }
      ]
    },
    {
      "cell_type": "markdown",
      "source": [
        "12.  Use Pandas to load a CSV file and display its first 5 rows."
      ],
      "metadata": {
        "id": "hzN2amOqPPh0"
      }
    },
    {
      "cell_type": "code",
      "metadata": {
        "colab": {
          "base_uri": "https://localhost:8080/"
        },
        "id": "c349a068",
        "outputId": "31c6a88a-6502-403e-ce91-c904a2ac6955"
      },
      "source": [
        "import pandas as pd\n",
        "\n",
        "# Replace 'sample.csv' with the path to your CSV file\n",
        "try:\n",
        "    df_csv = pd.read_csv('sample.csv')\n",
        "\n",
        "    # Display the first 5 rows of the DataFrame\n",
        "    print(\"First 5 rows of the DataFrame:\")\n",
        "    display(df_csv.head())\n",
        "\n",
        "except FileNotFoundError:\n",
        "    print(\"Error: 'sample.csv' not found. Please replace 'sample.csv' with the correct path to your file.\")\n",
        "except Exception as e:\n",
        "    print(f\"An error occurred: {e}\")"
      ],
      "execution_count": 12,
      "outputs": [
        {
          "output_type": "stream",
          "name": "stdout",
          "text": [
            "Error: 'sample.csv' not found. Please replace 'sample.csv' with the correct path to your file.\n"
          ]
        }
      ]
    },
    {
      "cell_type": "markdown",
      "source": [
        "13. Create a 3D scatter plot using Plotly."
      ],
      "metadata": {
        "id": "J2fLJCzJPYVH"
      }
    },
    {
      "cell_type": "code",
      "metadata": {
        "colab": {
          "base_uri": "https://localhost:8080/",
          "height": 542
        },
        "id": "fd87ff67",
        "outputId": "8b9fc2b7-57bc-4f53-f6f2-0e3fbcf2fb3d"
      },
      "source": [
        "import plotly.express as px\n",
        "import numpy as np\n",
        "import pandas as pd\n",
        "\n",
        "# Create sample data for a 3D scatter plot\n",
        "np.random.seed(42) # for reproducibility\n",
        "data_3d = {\n",
        "    'x': np.random.rand(100),\n",
        "    'y': np.random.rand(100),\n",
        "    'z': np.random.rand(100),\n",
        "    'size': np.random.rand(100) * 30, # add size dimension\n",
        "    'color': np.random.rand(100) # add color dimension\n",
        "}\n",
        "df_3d = pd.DataFrame(data_3d)\n",
        "\n",
        "# Create a 3D scatter plot\n",
        "fig = px.scatter_3d(df_3d, x='x', y='y', z='z',\n",
        "                    size='size', color='color',\n",
        "                    title='3D Scatter Plot with Plotly')\n",
        "\n",
        "# Display the plot\n",
        "fig.show()"
      ],
      "execution_count": 13,
      "outputs": [
        {
          "output_type": "display_data",
          "data": {
            "text/html": [
              "<html>\n",
              "<head><meta charset=\"utf-8\" /></head>\n",
              "<body>\n",
              "    <div>            <script src=\"https://cdnjs.cloudflare.com/ajax/libs/mathjax/2.7.5/MathJax.js?config=TeX-AMS-MML_SVG\"></script><script type=\"text/javascript\">if (window.MathJax && window.MathJax.Hub && window.MathJax.Hub.Config) {window.MathJax.Hub.Config({SVG: {font: \"STIX-Web\"}});}</script>                <script type=\"text/javascript\">window.PlotlyConfig = {MathJaxConfig: 'local'};</script>\n",
              "        <script charset=\"utf-8\" src=\"https://cdn.plot.ly/plotly-2.35.2.min.js\"></script>                <div id=\"5113b70d-3a4d-4993-b8e8-9d41b07dc8b6\" class=\"plotly-graph-div\" style=\"height:525px; width:100%;\"></div>            <script type=\"text/javascript\">                                    window.PLOTLYENV=window.PLOTLYENV || {};                                    if (document.getElementById(\"5113b70d-3a4d-4993-b8e8-9d41b07dc8b6\")) {                    Plotly.newPlot(                        \"5113b70d-3a4d-4993-b8e8-9d41b07dc8b6\",                        [{\"hovertemplate\":\"x=%{x}\\u003cbr\\u003ey=%{y}\\u003cbr\\u003ez=%{z}\\u003cbr\\u003esize=%{marker.size}\\u003cbr\\u003ecolor=%{marker.color}\\u003cextra\\u003e\\u003c\\u002fextra\\u003e\",\"legendgroup\":\"\",\"marker\":{\"color\":[0.10312386883593261,0.9025529066795667,0.5052523724478571,0.8264574661077416,0.32004960103061175,0.8955232284962005,0.3892016787341631,0.01083765148029836,0.9053819764192637,0.09128667678613356,0.31931363759041487,0.9500619670508049,0.9506071469375561,0.5734378881232861,0.6318372121697993,0.44844552197831977,0.29321077169806453,0.32866454536991596,0.6725184560770384,0.75237452943768,0.7915790437258485,0.7896181427945539,0.09120610304869037,0.49442030470258147,0.057558760016644284,0.5495288823237355,0.441530501373377,0.8877041827582998,0.3509150125520787,0.11706701642760586,0.14299168205283586,0.7615106317174722,0.6182180633162611,0.10112267612279024,0.08410680611499743,0.70096913145912,0.07276300636419353,0.8218600592903562,0.7062422271564962,0.08134878064189976,0.08483771408519192,0.9866395785011755,0.3742707957561203,0.3706421470668909,0.8127995672575026,0.9472485773838587,0.9860010638228709,0.7533781852589416,0.37625958553091576,0.08350071669866876,0.7771469159274368,0.558404249735805,0.4242220092469763,0.906354385094736,0.11119748230615134,0.49262510429085915,0.011353644767419069,0.46866064199412627,0.05630327568183735,0.11881791626807192,0.11752624677710488,0.6492103021160636,0.7460448792654233,0.5833687650971596,0.9621725484745419,0.37487057952370406,0.28571208628186073,0.8685991281894603,0.22359583851945264,0.9632225394406113,0.012154474689816341,0.969878826707639,0.04315991195057611,0.8911431136980711,0.5277011090862999,0.9929647961193003,0.07379656473539886,0.5538542844013208,0.969302535619099,0.5230978441701488,0.6293986381352625,0.6957486889846172,0.45454106476777323,0.6275580800840634,0.5843143119231002,0.901158010490989,0.04544638034145787,0.2809631895922303,0.9504114840765587,0.8902637838909163,0.45565675278571294,0.6201325978015367,0.2773811829811327,0.1881211597237613,0.46369840493998216,0.3533522280260528,0.5836561118508721,0.07773463696498484,0.9743948076661665,0.9862107444796029],\"coloraxis\":\"coloraxis\",\"size\":[1.550451635058231,15.94063894704444,16.219053648303195,19.122897044946196,21.782740011679845,29.27556238387604,15.48901044903586,9.68869418823738,23.85558584306111,8.124967537862226,13.169142621169083,2.353691440267979,0.7605223024637253,28.87945244033775,25.079403615366175,20.87922618281094,12.268588332428097,5.1988296021253735,4.693111280132581,7.50728694493786,16.476799941183614,21.43787768100187,19.80592130153194,8.398016908378285,28.645958419895823,22.136907500873054,16.63062157534202,18.351622387030567,12.588001872833697,7.431929685034724,10.679180359537847,22.735383313931074,0.43180465889267605,3.482179215207487,1.3800792606525825,1.221864069569104,25.663817520330216,21.109735781400712,14.225214872619755,2.935024819530044,14.74847625350497,14.20415312341697,5.196056097300455,13.01554947713919,11.955142031921204,18.475502941566493,19.052809526029314,1.3591202931613355,11.238378438794136,18.77579747142709,15.094087757402631,25.694695235649668,19.76080894856835,4.888032812442891,2.1170624220128955,19.27257834618947,0.7953393162486544,17.5732674382039,28.206907242748727,17.26422533627637,11.645097786195658,19.298646553270594,13.747586714745498,16.36850367947805,28.243944263295756,11.583079134023228,28.835716914717427,27.160519258681912,5.873734043678893,2.0808390262549636,3.0233400413227995,0.5466547695464918,2.8332888226778516,20.490203202490704,2.13565945380687,9.56926890881284,25.346259329083637,0.698158072074776,24.434054477668074,8.455643243201997,3.5449448286496876,20.902114960924518,18.86828540339652,26.32416040581159,22.052131314116572,24.104427911545457,8.461037177139195,5.323186313391685,22.51844254922575,24.20504217801792,29.7151542600202,12.378530307342794,11.160542573783495,23.292388822259905,10.224106207590536,27.92271976810694,25.752382555290353,12.869820821250551,22.526132033744922,22.63628622254047],\"sizemode\":\"area\",\"sizeref\":0.0742878856500505,\"symbol\":\"circle\"},\"mode\":\"markers\",\"name\":\"\",\"scene\":\"scene\",\"showlegend\":false,\"x\":[0.3745401188473625,0.9507143064099162,0.7319939418114051,0.5986584841970366,0.15601864044243652,0.15599452033620265,0.05808361216819946,0.8661761457749352,0.6011150117432088,0.7080725777960455,0.020584494295802447,0.9699098521619943,0.8324426408004217,0.21233911067827616,0.18182496720710062,0.18340450985343382,0.3042422429595377,0.5247564316322378,0.43194501864211576,0.2912291401980419,0.6118528947223795,0.13949386065204183,0.29214464853521815,0.3663618432936917,0.45606998421703593,0.7851759613930136,0.19967378215835974,0.5142344384136116,0.5924145688620425,0.046450412719997725,0.6075448519014384,0.17052412368729153,0.06505159298527952,0.9488855372533332,0.9656320330745594,0.8083973481164611,0.3046137691733707,0.09767211400638387,0.6842330265121569,0.4401524937396013,0.12203823484477883,0.4951769101112702,0.034388521115218396,0.9093204020787821,0.2587799816000169,0.662522284353982,0.31171107608941095,0.5200680211778108,0.5467102793432796,0.18485445552552704,0.9695846277645586,0.7751328233611146,0.9394989415641891,0.8948273504276488,0.5978999788110851,0.9218742350231168,0.0884925020519195,0.1959828624191452,0.045227288910538066,0.32533033076326434,0.388677289689482,0.2713490317738959,0.8287375091519293,0.3567533266935893,0.28093450968738076,0.5426960831582485,0.14092422497476265,0.8021969807540397,0.07455064367977082,0.9868869366005173,0.7722447692966574,0.1987156815341724,0.005522117123602399,0.8154614284548342,0.7068573438476171,0.7290071680409873,0.7712703466859457,0.07404465173409036,0.3584657285442726,0.11586905952512971,0.8631034258755935,0.6232981268275579,0.3308980248526492,0.06355835028602363,0.3109823217156622,0.32518332202674705,0.7296061783380641,0.6375574713552131,0.8872127425763265,0.4722149251619493,0.1195942459383017,0.713244787222995,0.7607850486168974,0.5612771975694962,0.770967179954561,0.49379559636439074,0.5227328293819941,0.42754101835854963,0.02541912674409519,0.10789142699330445],\"y\":[0.03142918568673425,0.6364104112637804,0.3143559810763267,0.5085706911647028,0.907566473926093,0.24929222914887494,0.41038292303562973,0.7555511385430487,0.22879816549162246,0.07697990982879299,0.289751452913768,0.16122128725400442,0.9296976523425731,0.808120379564417,0.6334037565104235,0.8714605901877177,0.8036720768991145,0.18657005888603584,0.8925589984899778,0.5393422419156507,0.8074401551640625,0.8960912999234932,0.3180034749718639,0.11005192452767676,0.22793516254194168,0.4271077886262563,0.8180147659224931,0.8607305832563434,0.006952130531190703,0.5107473025775657,0.417411003148779,0.22210781047073025,0.1198653673336828,0.33761517140362796,0.9429097039125192,0.32320293202075523,0.5187906217433661,0.7030189588951778,0.363629602379294,0.9717820827209607,0.9624472949421112,0.25178229582536416,0.49724850589238545,0.30087830981676966,0.2848404943774676,0.036886947354532795,0.6095643339798968,0.5026790232288615,0.05147875124998935,0.27864646423661144,0.9082658859666537,0.23956189066697242,0.1448948720912231,0.489452760277563,0.9856504541106007,0.2420552715115004,0.6721355474058786,0.7616196153287176,0.23763754399239967,0.7282163486118596,0.3677831327192532,0.6323058305935795,0.6335297107608947,0.5357746840747585,0.0902897700544083,0.835302495589238,0.32078006497173583,0.18651851039985423,0.040775141554763916,0.5908929431882418,0.6775643618422824,0.016587828927856152,0.512093058299281,0.22649577519793795,0.6451727904094499,0.17436642900499144,0.690937738102466,0.3867353463005374,0.9367299887367345,0.13752094414599325,0.3410663510502585,0.11347352124058907,0.9246936182785628,0.877339353380981,0.2579416277151556,0.659984046034179,0.8172222002012158,0.5552008115994623,0.5296505783560065,0.24185229090045168,0.09310276780589921,0.8972157579533268,0.9004180571633305,0.6331014572732679,0.3390297910487007,0.3492095746126609,0.7259556788702394,0.8971102599525771,0.8870864242651173,0.7798755458576239],\"z\":[0.6420316461542878,0.08413996499504883,0.16162871409461377,0.8985541885270792,0.6064290596595899,0.009197051616629648,0.1014715428660321,0.6635017691080558,0.005061583846218687,0.16080805141749865,0.5487337893665861,0.6918951976926933,0.6519612595026005,0.22426930946055978,0.7121792213475359,0.23724908749680007,0.3253996981592677,0.7464914051180241,0.6496328990472147,0.8492234104941779,0.6576128923003434,0.5683086033354716,0.09367476782809248,0.3677158030594335,0.26520236768172545,0.24398964337908358,0.9730105547524456,0.3930977246667604,0.8920465551771133,0.6311386259972629,0.7948113035416484,0.5026370931051921,0.5769038846263591,0.4925176938188639,0.1952429877980445,0.7224521152615053,0.2807723624408558,0.02431596643145384,0.6454722959071678,0.17711067940704894,0.9404585843529143,0.9539285770025874,0.9148643902204485,0.3701587002554444,0.015456616528867428,0.9283185625877254,0.42818414831731433,0.9666548190436696,0.9636199770892528,0.8530094554673601,0.2944488920695857,0.38509772860192526,0.8511366715168569,0.31692200515627766,0.1694927466860925,0.5568012624583502,0.936154774160781,0.696029796674973,0.570061170089365,0.09717649377076854,0.6150072266991697,0.9900538501042633,0.14008401523652403,0.5183296523637367,0.8773730719279554,0.7407686177542044,0.697015740995268,0.7024840839871093,0.35949115121975517,0.29359184426449336,0.8093611554785136,0.8101133946791808,0.8670723185801037,0.9132405525564713,0.5113423988609378,0.5015162946871996,0.7982951789667752,0.6499639307777652,0.7019668772577033,0.795792669436101,0.8900053418175663,0.3379951568515358,0.375582952639944,0.093981939840869,0.578280140996174,0.035942273796742086,0.46559801813246016,0.5426446347075766,0.2865412521282844,0.5908332605690108,0.03050024993904943,0.03734818874921442,0.8226005606596583,0.3601906414112629,0.12706051265188478,0.5222432600548044,0.7699935530986108,0.21582102749684318,0.6228904758190003,0.085347464993768],\"type\":\"scatter3d\"}],                        {\"template\":{\"data\":{\"histogram2dcontour\":[{\"type\":\"histogram2dcontour\",\"colorbar\":{\"outlinewidth\":0,\"ticks\":\"\"},\"colorscale\":[[0.0,\"#0d0887\"],[0.1111111111111111,\"#46039f\"],[0.2222222222222222,\"#7201a8\"],[0.3333333333333333,\"#9c179e\"],[0.4444444444444444,\"#bd3786\"],[0.5555555555555556,\"#d8576b\"],[0.6666666666666666,\"#ed7953\"],[0.7777777777777778,\"#fb9f3a\"],[0.8888888888888888,\"#fdca26\"],[1.0,\"#f0f921\"]]}],\"choropleth\":[{\"type\":\"choropleth\",\"colorbar\":{\"outlinewidth\":0,\"ticks\":\"\"}}],\"histogram2d\":[{\"type\":\"histogram2d\",\"colorbar\":{\"outlinewidth\":0,\"ticks\":\"\"},\"colorscale\":[[0.0,\"#0d0887\"],[0.1111111111111111,\"#46039f\"],[0.2222222222222222,\"#7201a8\"],[0.3333333333333333,\"#9c179e\"],[0.4444444444444444,\"#bd3786\"],[0.5555555555555556,\"#d8576b\"],[0.6666666666666666,\"#ed7953\"],[0.7777777777777778,\"#fb9f3a\"],[0.8888888888888888,\"#fdca26\"],[1.0,\"#f0f921\"]]}],\"heatmap\":[{\"type\":\"heatmap\",\"colorbar\":{\"outlinewidth\":0,\"ticks\":\"\"},\"colorscale\":[[0.0,\"#0d0887\"],[0.1111111111111111,\"#46039f\"],[0.2222222222222222,\"#7201a8\"],[0.3333333333333333,\"#9c179e\"],[0.4444444444444444,\"#bd3786\"],[0.5555555555555556,\"#d8576b\"],[0.6666666666666666,\"#ed7953\"],[0.7777777777777778,\"#fb9f3a\"],[0.8888888888888888,\"#fdca26\"],[1.0,\"#f0f921\"]]}],\"heatmapgl\":[{\"type\":\"heatmapgl\",\"colorbar\":{\"outlinewidth\":0,\"ticks\":\"\"},\"colorscale\":[[0.0,\"#0d0887\"],[0.1111111111111111,\"#46039f\"],[0.2222222222222222,\"#7201a8\"],[0.3333333333333333,\"#9c179e\"],[0.4444444444444444,\"#bd3786\"],[0.5555555555555556,\"#d8576b\"],[0.6666666666666666,\"#ed7953\"],[0.7777777777777778,\"#fb9f3a\"],[0.8888888888888888,\"#fdca26\"],[1.0,\"#f0f921\"]]}],\"contourcarpet\":[{\"type\":\"contourcarpet\",\"colorbar\":{\"outlinewidth\":0,\"ticks\":\"\"}}],\"contour\":[{\"type\":\"contour\",\"colorbar\":{\"outlinewidth\":0,\"ticks\":\"\"},\"colorscale\":[[0.0,\"#0d0887\"],[0.1111111111111111,\"#46039f\"],[0.2222222222222222,\"#7201a8\"],[0.3333333333333333,\"#9c179e\"],[0.4444444444444444,\"#bd3786\"],[0.5555555555555556,\"#d8576b\"],[0.6666666666666666,\"#ed7953\"],[0.7777777777777778,\"#fb9f3a\"],[0.8888888888888888,\"#fdca26\"],[1.0,\"#f0f921\"]]}],\"surface\":[{\"type\":\"surface\",\"colorbar\":{\"outlinewidth\":0,\"ticks\":\"\"},\"colorscale\":[[0.0,\"#0d0887\"],[0.1111111111111111,\"#46039f\"],[0.2222222222222222,\"#7201a8\"],[0.3333333333333333,\"#9c179e\"],[0.4444444444444444,\"#bd3786\"],[0.5555555555555556,\"#d8576b\"],[0.6666666666666666,\"#ed7953\"],[0.7777777777777778,\"#fb9f3a\"],[0.8888888888888888,\"#fdca26\"],[1.0,\"#f0f921\"]]}],\"mesh3d\":[{\"type\":\"mesh3d\",\"colorbar\":{\"outlinewidth\":0,\"ticks\":\"\"}}],\"scatter\":[{\"fillpattern\":{\"fillmode\":\"overlay\",\"size\":10,\"solidity\":0.2},\"type\":\"scatter\"}],\"parcoords\":[{\"type\":\"parcoords\",\"line\":{\"colorbar\":{\"outlinewidth\":0,\"ticks\":\"\"}}}],\"scatterpolargl\":[{\"type\":\"scatterpolargl\",\"marker\":{\"colorbar\":{\"outlinewidth\":0,\"ticks\":\"\"}}}],\"bar\":[{\"error_x\":{\"color\":\"#2a3f5f\"},\"error_y\":{\"color\":\"#2a3f5f\"},\"marker\":{\"line\":{\"color\":\"#E5ECF6\",\"width\":0.5},\"pattern\":{\"fillmode\":\"overlay\",\"size\":10,\"solidity\":0.2}},\"type\":\"bar\"}],\"scattergeo\":[{\"type\":\"scattergeo\",\"marker\":{\"colorbar\":{\"outlinewidth\":0,\"ticks\":\"\"}}}],\"scatterpolar\":[{\"type\":\"scatterpolar\",\"marker\":{\"colorbar\":{\"outlinewidth\":0,\"ticks\":\"\"}}}],\"histogram\":[{\"marker\":{\"pattern\":{\"fillmode\":\"overlay\",\"size\":10,\"solidity\":0.2}},\"type\":\"histogram\"}],\"scattergl\":[{\"type\":\"scattergl\",\"marker\":{\"colorbar\":{\"outlinewidth\":0,\"ticks\":\"\"}}}],\"scatter3d\":[{\"type\":\"scatter3d\",\"line\":{\"colorbar\":{\"outlinewidth\":0,\"ticks\":\"\"}},\"marker\":{\"colorbar\":{\"outlinewidth\":0,\"ticks\":\"\"}}}],\"scattermapbox\":[{\"type\":\"scattermapbox\",\"marker\":{\"colorbar\":{\"outlinewidth\":0,\"ticks\":\"\"}}}],\"scatterternary\":[{\"type\":\"scatterternary\",\"marker\":{\"colorbar\":{\"outlinewidth\":0,\"ticks\":\"\"}}}],\"scattercarpet\":[{\"type\":\"scattercarpet\",\"marker\":{\"colorbar\":{\"outlinewidth\":0,\"ticks\":\"\"}}}],\"carpet\":[{\"aaxis\":{\"endlinecolor\":\"#2a3f5f\",\"gridcolor\":\"white\",\"linecolor\":\"white\",\"minorgridcolor\":\"white\",\"startlinecolor\":\"#2a3f5f\"},\"baxis\":{\"endlinecolor\":\"#2a3f5f\",\"gridcolor\":\"white\",\"linecolor\":\"white\",\"minorgridcolor\":\"white\",\"startlinecolor\":\"#2a3f5f\"},\"type\":\"carpet\"}],\"table\":[{\"cells\":{\"fill\":{\"color\":\"#EBF0F8\"},\"line\":{\"color\":\"white\"}},\"header\":{\"fill\":{\"color\":\"#C8D4E3\"},\"line\":{\"color\":\"white\"}},\"type\":\"table\"}],\"barpolar\":[{\"marker\":{\"line\":{\"color\":\"#E5ECF6\",\"width\":0.5},\"pattern\":{\"fillmode\":\"overlay\",\"size\":10,\"solidity\":0.2}},\"type\":\"barpolar\"}],\"pie\":[{\"automargin\":true,\"type\":\"pie\"}]},\"layout\":{\"autotypenumbers\":\"strict\",\"colorway\":[\"#636efa\",\"#EF553B\",\"#00cc96\",\"#ab63fa\",\"#FFA15A\",\"#19d3f3\",\"#FF6692\",\"#B6E880\",\"#FF97FF\",\"#FECB52\"],\"font\":{\"color\":\"#2a3f5f\"},\"hovermode\":\"closest\",\"hoverlabel\":{\"align\":\"left\"},\"paper_bgcolor\":\"white\",\"plot_bgcolor\":\"#E5ECF6\",\"polar\":{\"bgcolor\":\"#E5ECF6\",\"angularaxis\":{\"gridcolor\":\"white\",\"linecolor\":\"white\",\"ticks\":\"\"},\"radialaxis\":{\"gridcolor\":\"white\",\"linecolor\":\"white\",\"ticks\":\"\"}},\"ternary\":{\"bgcolor\":\"#E5ECF6\",\"aaxis\":{\"gridcolor\":\"white\",\"linecolor\":\"white\",\"ticks\":\"\"},\"baxis\":{\"gridcolor\":\"white\",\"linecolor\":\"white\",\"ticks\":\"\"},\"caxis\":{\"gridcolor\":\"white\",\"linecolor\":\"white\",\"ticks\":\"\"}},\"coloraxis\":{\"colorbar\":{\"outlinewidth\":0,\"ticks\":\"\"}},\"colorscale\":{\"sequential\":[[0.0,\"#0d0887\"],[0.1111111111111111,\"#46039f\"],[0.2222222222222222,\"#7201a8\"],[0.3333333333333333,\"#9c179e\"],[0.4444444444444444,\"#bd3786\"],[0.5555555555555556,\"#d8576b\"],[0.6666666666666666,\"#ed7953\"],[0.7777777777777778,\"#fb9f3a\"],[0.8888888888888888,\"#fdca26\"],[1.0,\"#f0f921\"]],\"sequentialminus\":[[0.0,\"#0d0887\"],[0.1111111111111111,\"#46039f\"],[0.2222222222222222,\"#7201a8\"],[0.3333333333333333,\"#9c179e\"],[0.4444444444444444,\"#bd3786\"],[0.5555555555555556,\"#d8576b\"],[0.6666666666666666,\"#ed7953\"],[0.7777777777777778,\"#fb9f3a\"],[0.8888888888888888,\"#fdca26\"],[1.0,\"#f0f921\"]],\"diverging\":[[0,\"#8e0152\"],[0.1,\"#c51b7d\"],[0.2,\"#de77ae\"],[0.3,\"#f1b6da\"],[0.4,\"#fde0ef\"],[0.5,\"#f7f7f7\"],[0.6,\"#e6f5d0\"],[0.7,\"#b8e186\"],[0.8,\"#7fbc41\"],[0.9,\"#4d9221\"],[1,\"#276419\"]]},\"xaxis\":{\"gridcolor\":\"white\",\"linecolor\":\"white\",\"ticks\":\"\",\"title\":{\"standoff\":15},\"zerolinecolor\":\"white\",\"automargin\":true,\"zerolinewidth\":2},\"yaxis\":{\"gridcolor\":\"white\",\"linecolor\":\"white\",\"ticks\":\"\",\"title\":{\"standoff\":15},\"zerolinecolor\":\"white\",\"automargin\":true,\"zerolinewidth\":2},\"scene\":{\"xaxis\":{\"backgroundcolor\":\"#E5ECF6\",\"gridcolor\":\"white\",\"linecolor\":\"white\",\"showbackground\":true,\"ticks\":\"\",\"zerolinecolor\":\"white\",\"gridwidth\":2},\"yaxis\":{\"backgroundcolor\":\"#E5ECF6\",\"gridcolor\":\"white\",\"linecolor\":\"white\",\"showbackground\":true,\"ticks\":\"\",\"zerolinecolor\":\"white\",\"gridwidth\":2},\"zaxis\":{\"backgroundcolor\":\"#E5ECF6\",\"gridcolor\":\"white\",\"linecolor\":\"white\",\"showbackground\":true,\"ticks\":\"\",\"zerolinecolor\":\"white\",\"gridwidth\":2}},\"shapedefaults\":{\"line\":{\"color\":\"#2a3f5f\"}},\"annotationdefaults\":{\"arrowcolor\":\"#2a3f5f\",\"arrowhead\":0,\"arrowwidth\":1},\"geo\":{\"bgcolor\":\"white\",\"landcolor\":\"#E5ECF6\",\"subunitcolor\":\"white\",\"showland\":true,\"showlakes\":true,\"lakecolor\":\"white\"},\"title\":{\"x\":0.05},\"mapbox\":{\"style\":\"light\"}}},\"scene\":{\"domain\":{\"x\":[0.0,1.0],\"y\":[0.0,1.0]},\"xaxis\":{\"title\":{\"text\":\"x\"}},\"yaxis\":{\"title\":{\"text\":\"y\"}},\"zaxis\":{\"title\":{\"text\":\"z\"}}},\"coloraxis\":{\"colorbar\":{\"title\":{\"text\":\"color\"}},\"colorscale\":[[0.0,\"#0d0887\"],[0.1111111111111111,\"#46039f\"],[0.2222222222222222,\"#7201a8\"],[0.3333333333333333,\"#9c179e\"],[0.4444444444444444,\"#bd3786\"],[0.5555555555555556,\"#d8576b\"],[0.6666666666666666,\"#ed7953\"],[0.7777777777777778,\"#fb9f3a\"],[0.8888888888888888,\"#fdca26\"],[1.0,\"#f0f921\"]]},\"legend\":{\"tracegroupgap\":0,\"itemsizing\":\"constant\"},\"title\":{\"text\":\"3D Scatter Plot with Plotly\"}},                        {\"responsive\": true}                    ).then(function(){\n",
              "                            \n",
              "var gd = document.getElementById('5113b70d-3a4d-4993-b8e8-9d41b07dc8b6');\n",
              "var x = new MutationObserver(function (mutations, observer) {{\n",
              "        var display = window.getComputedStyle(gd).display;\n",
              "        if (!display || display === 'none') {{\n",
              "            console.log([gd, 'removed!']);\n",
              "            Plotly.purge(gd);\n",
              "            observer.disconnect();\n",
              "        }}\n",
              "}});\n",
              "\n",
              "// Listen for the removal of the full notebook cells\n",
              "var notebookContainer = gd.closest('#notebook-container');\n",
              "if (notebookContainer) {{\n",
              "    x.observe(notebookContainer, {childList: true});\n",
              "}}\n",
              "\n",
              "// Listen for the clearing of the current output cell\n",
              "var outputEl = gd.closest('.output');\n",
              "if (outputEl) {{\n",
              "    x.observe(outputEl, {childList: true});\n",
              "}}\n",
              "\n",
              "                        })                };                            </script>        </div>\n",
              "</body>\n",
              "</html>"
            ]
          },
          "metadata": {}
        }
      ]
    }
  ]
}